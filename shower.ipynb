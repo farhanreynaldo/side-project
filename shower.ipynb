{
  "nbformat": 4,
  "nbformat_minor": 0,
  "metadata": {
    "colab": {
      "name": "shower-project.ipynb",
      "provenance": [],
      "collapsed_sections": []
    },
    "kernelspec": {
      "name": "python3",
      "display_name": "Python 3"
    },
    "language_info": {
      "name": "python"
    }
  },
  "cells": [
    {
      "cell_type": "markdown",
      "metadata": {
        "id": "qiryMZt3aqd0"
      },
      "source": [
        "[![Google Colab][colab-badge]][colab-url]\n",
        "\n",
        "[![Deepnote][deepnote-badge]][deepnote-url]\n",
        "\n",
        "[colab-badge]: https://colab.research.google.com/assets/colab-badge.svg\n",
        "[colab-url]: https://colab.research.google.com/github/farhanreynaldo/side-project/blob/master/approximate-bayesian-computation.ipynb\n",
        "[deepnote-badge]: https://beta.deepnote.com/buttons/launch-in-deepnote.svg\n",
        "[deepnote-url]: https://beta.deepnote.com/launch?template=data-science&url=https%3A//github.com/farhanreynaldo/side-project/blob/master/approximate-bayesian-computation.ipynb"
      ]
    },
    {
      "cell_type": "markdown",
      "metadata": {
        "id": "m8Bdktmh8INq"
      },
      "source": [
        "I saw this shower problem first from [**Cameron Davidson-Pilon**'s reply](https://twitter.com/Cmrn_DP/status/1407159305904795658) on [Allen Downey's tweet](https://twitter.com/AllenDowney/status/1406981524524834818). I was hooked to solve the problem using similar approach from Allen's USB connector problem. But later on he posted his approach to the shower problem. The original problem [posted by Chris Said](https://chris-said.io/2020/02/08/the-shower-problem/) stated as follows:\n",
        "\n",
        "> #### The Shower Problem\n",
        ">\n",
        "> Here’s the setup: You’re at your friend’s place and you need to take a shower. The shower knob is unlabeled. One direction is hot and the other direction is cold, and you don’t know which is which.\n",
        ">\n",
        "> You turn it to the left. It’s cold. You wait.\n",
        ">\n",
        ">At what point do you switch over to the right?\n",
        ">\n",
        "> Let’s make this more explicit.\n",
        ">\n",
        "> * Your goal is to find a policy that minimizes the expected amount of time it takes to get hot water flowing out of the shower head. To simplify things, assume that the water coming out of the head is either hot or cold, and that the lukewarm transition time is effectively zero.\n",
        ">\n",
        "> * You know that the shower has a Time-To-Hot constant called $\\tau$. This value is defined as the time it takes for hot water to arrive, assuming you have turned the knob to the hot direction and keep it there.\n",
        ">\n",
        "> * The constant is a fixed property of the shower and is sampled once from a known distribution. You have certain knowledge of the distribution, but you don’t know $\\tau$.\n",
        ">\n",
        "> * The shower is memoryless, such that every time you turn the knob to the hot direction, it will take $\\tau$ seconds until the hot water arrives, regardless of your prior actions. Every time you turn it to the cold direction, only cold water will come out.\n",
        ">\n",
        "> I don’t know how to solve this problem. But as a starting point I realize it’s possible to keep track of the probability that the hot direction is to the left or to the right. In the animation above, the probability that the hot direction is to the right is just the unexplored white area under the right curve, divided by the total unexplored white area of both curves.\n",
        ">\n",
        "> But how do you turn that into a policy for exploring the space? Does anybody know?\n",
        "\n",
        "In this post, I am going to approach this problem using a simple rule as baseline (or think of this as an \"optimized\" baseline).\n",
        "\n",
        "First, let's assume we start from the left direction. After waiting for `t` seconds, the water is still cold. So, we try the right direction and wait longer than our previous waiting time. We switch the direction each time until we passed the Time-To-Hot constant ($\\tau$). But, how long should we wait on the next try? Since the author provides the additional information that the distribution of $\\tau$ is Weibull with parameters $\\lambda=50$ and $k=1.5$, we would sample the additional waiting time from that distribution. Furthermore, our average duration should be reported using the provided [$\\tau$ samples](https://gist.github.com/csaid/a57c4ebaa1c7b0671cdc9692638ea4c4)."
      ]
    },
    {
      "cell_type": "code",
      "metadata": {
        "id": "yu1L9xxXExE3"
      },
      "source": [
        "import os\n",
        "\n",
        "import numpy as np\n",
        "from scipy import stats\n",
        "import seaborn as sns\n",
        "import pandas as pd\n",
        "from tqdm import tqdm"
      ],
      "execution_count": 1,
      "outputs": []
    },
    {
      "cell_type": "code",
      "metadata": {
        "colab": {
          "base_uri": "https://localhost:8080/",
          "height": 206
        },
        "id": "AhfYxux6CG-_",
        "outputId": "bb24eb0d-792f-42ce-d899-2e257a8cbaa5"
      },
      "source": [
        "shower_url = 'https://gist.github.com/csaid/a57c4ebaa1c7b0671cdc9692638ea4c4/' \\\n",
        "             'raw/ad1709938834d7bc88b62ff0763733502eb6a329/' \\\n",
        "             'shower_problem_tau_samples.csv'\n",
        "\n",
        "test = pd.read_csv(shower_url)\n",
        "test.head()"
      ],
      "execution_count": 2,
      "outputs": [
        {
          "output_type": "execute_result",
          "data": {
            "text/html": [
              "<div>\n",
              "<style scoped>\n",
              "    .dataframe tbody tr th:only-of-type {\n",
              "        vertical-align: middle;\n",
              "    }\n",
              "\n",
              "    .dataframe tbody tr th {\n",
              "        vertical-align: top;\n",
              "    }\n",
              "\n",
              "    .dataframe thead th {\n",
              "        text-align: right;\n",
              "    }\n",
              "</style>\n",
              "<table border=\"1\" class=\"dataframe\">\n",
              "  <thead>\n",
              "    <tr style=\"text-align: right;\">\n",
              "      <th></th>\n",
              "      <th>direction</th>\n",
              "      <th>tau</th>\n",
              "    </tr>\n",
              "  </thead>\n",
              "  <tbody>\n",
              "    <tr>\n",
              "      <th>0</th>\n",
              "      <td>1.0</td>\n",
              "      <td>44.173094</td>\n",
              "    </tr>\n",
              "    <tr>\n",
              "      <th>1</th>\n",
              "      <td>1.0</td>\n",
              "      <td>39.133131</td>\n",
              "    </tr>\n",
              "    <tr>\n",
              "      <th>2</th>\n",
              "      <td>1.0</td>\n",
              "      <td>2.229446</td>\n",
              "    </tr>\n",
              "    <tr>\n",
              "      <th>3</th>\n",
              "      <td>1.0</td>\n",
              "      <td>45.518857</td>\n",
              "    </tr>\n",
              "    <tr>\n",
              "      <th>4</th>\n",
              "      <td>1.0</td>\n",
              "      <td>32.463695</td>\n",
              "    </tr>\n",
              "  </tbody>\n",
              "</table>\n",
              "</div>"
            ],
            "text/plain": [
              "   direction        tau\n",
              "0        1.0  44.173094\n",
              "1        1.0  39.133131\n",
              "2        1.0   2.229446\n",
              "3        1.0  45.518857\n",
              "4        1.0  32.463695"
            ]
          },
          "metadata": {
            "tags": []
          },
          "execution_count": 2
        }
      ]
    },
    {
      "cell_type": "markdown",
      "metadata": {
        "id": "ajrUGKTqBVDI"
      },
      "source": [
        "The explanation above can be written as the following code, where we keep track on the number of flips and the time elapsed. Initially, we would set the `init_wait` = 0, meaning our waiting time would be equal to the Weibull distribution sample. For illustration purposes, we set the `direction` = 1 and `tau` = 50. "
      ]
    },
    {
      "cell_type": "code",
      "metadata": {
        "colab": {
          "base_uri": "https://localhost:8080/"
        },
        "id": "QJlOozt74-mf",
        "outputId": "e1e83ba3-b669-4cee-9538-722766775dfc"
      },
      "source": [
        "def simulate(direction, tau, init_wait, lam, k, flips=0, total_time=0):\n",
        "  samples = stats.weibull_min.rvs(1.5, scale=50, size=1000)\n",
        "\n",
        "  while True:\n",
        "    wait = init_wait + samples[flips]\n",
        "    if direction and tau < wait:\n",
        "      return flips, total_time + tau\n",
        "    \n",
        "    # change direction\n",
        "    direction = not direction\n",
        "    init_wait = wait\n",
        "    total_time += wait\n",
        "    flips += 1\n",
        "    \n",
        "simulate(direction=1, tau=50, init_wait=0, lam=50, k=1.5)"
      ],
      "execution_count": 3,
      "outputs": [
        {
          "output_type": "execute_result",
          "data": {
            "text/plain": [
              "(2, 109.43581339004803)"
            ]
          },
          "metadata": {
            "tags": []
          },
          "execution_count": 3
        }
      ]
    },
    {
      "cell_type": "code",
      "metadata": {
        "colab": {
          "base_uri": "https://localhost:8080/"
        },
        "id": "-Qj-HdUt5DWw",
        "outputId": "547eea24-6f54-4783-9e76-1baadc3b2eb6"
      },
      "source": [
        "def run_simulations(df, func, **kwargs):\n",
        "  res = []\n",
        "  samples = zip(df['direction'], df['tau'])\n",
        "  for direction, tau in samples:\n",
        "    flips, total_time = func(direction, tau, **kwargs)\n",
        "    res.append((flips, total_time))\n",
        "  return np.transpose(res)\n",
        "\n",
        "flips, total_time = run_simulations(test, simulate, init_wait=0, lam=50, k=1.5)\n",
        "flips.mean(), total_time.mean()"
      ],
      "execution_count": 4,
      "outputs": [
        {
          "output_type": "execute_result",
          "data": {
            "text/plain": [
              "(1.26155, 115.02289345861824)"
            ]
          },
          "metadata": {
            "tags": []
          },
          "execution_count": 4
        }
      ]
    },
    {
      "cell_type": "markdown",
      "metadata": {
        "id": "daGL-9-3Dg8C"
      },
      "source": [
        "By running the simulation against the test samples, the average waiting duration is around 115 seconds. Our baseline is lower than the previous solution by Cameron Davidson-Pilon and Allen Downey, 111.4 seconds and 102 seconds respectively.\n",
        "\n",
        "But, what if we set another value to the `init_wait` parameter? Since we knew the problem followed Weibull distribution, we might try various values between 5% and 95% percentile. We should also simulate against a train set, which we would create later, to find the optimal `init_wait`."
      ]
    },
    {
      "cell_type": "code",
      "metadata": {
        "colab": {
          "base_uri": "https://localhost:8080/"
        },
        "id": "qwCCLgVnWfcW",
        "outputId": "e105c91f-606e-4d34-eef6-4a85bc197e11"
      },
      "source": [
        "train = test.copy().sample(1000)\n",
        "train['tau'] = stats.weibull_min.rvs(1.5, scale=50, size=len(train))\n",
        "\n",
        "low, high = stats.weibull_min.ppf([0.05, 0.95], 1.5, scale=50).astype(int)\n",
        "init_waits = list(range(low, high))\n",
        "\n",
        "time = []\n",
        "for init_wait in tqdm(init_waits):\n",
        "  flips, total_time = run_simulations(train, simulate, init_wait=init_wait, lam=50, k=1.5)\n",
        "  time.append(total_time.mean())"
      ],
      "execution_count": 5,
      "outputs": [
        {
          "output_type": "stream",
          "text": [
            "100%|██████████| 97/97 [00:18<00:00,  5.30it/s]\n"
          ],
          "name": "stderr"
        }
      ]
    },
    {
      "cell_type": "code",
      "metadata": {
        "colab": {
          "base_uri": "https://localhost:8080/",
          "height": 322
        },
        "id": "1UM14k8PLkCy",
        "outputId": "fc0a080a-b686-4cf4-e3df-c205a0aa938e"
      },
      "source": [
        "sns.regplot(x=init_waits, y=time, lowess=True);"
      ],
      "execution_count": 6,
      "outputs": [
        {
          "output_type": "stream",
          "text": [
            "/usr/local/lib/python3.7/dist-packages/statsmodels/tools/_testing.py:19: FutureWarning: pandas.util.testing is deprecated. Use the functions in the public API at pandas.testing instead.\n",
            "  import pandas.util.testing as tm\n"
          ],
          "name": "stderr"
        },
        {
          "output_type": "display_data",
          "data": {
            "image/png": "[encoded data removed]",
            "text/plain": [
              "<Figure size 432x288 with 1 Axes>"
            ]
          },
          "metadata": {
            "tags": [],
            "needs_background": "light"
          }
        }
      ]
    },
    {
      "cell_type": "markdown",
      "metadata": {
        "id": "R1aTmtjdLqvu"
      },
      "source": [
        "Based on the plot above, the optimal value is around 45. Let's simulate the test set using our new `init_wait`."
      ]
    },
    {
      "cell_type": "code",
      "metadata": {
        "colab": {
          "base_uri": "https://localhost:8080/"
        },
        "id": "8r2F2hTpLkAS",
        "outputId": "9ca0271f-a626-46c9-a47f-4dc8322f9dd5"
      },
      "source": [
        "flips, total_time = run_simulations(test, simulate, init_wait=45, lam=50, k=1.5)\n",
        "flips.mean(), total_time.mean()"
      ],
      "execution_count": 7,
      "outputs": [
        {
          "output_type": "execute_result",
          "data": {
            "text/plain": [
              "(0.69345, 109.4372895617304)"
            ]
          },
          "metadata": {
            "tags": []
          },
          "execution_count": 7
        }
      ]
    },
    {
      "cell_type": "markdown",
      "metadata": {
        "id": "f9ULZvWtPyjf"
      },
      "source": [
        "In conclusion, the average duration for the optimal baseline is around 108 seconds. In the future post, we might look into another strategy to minimize the average duration."
      ]
    }
  ]
}